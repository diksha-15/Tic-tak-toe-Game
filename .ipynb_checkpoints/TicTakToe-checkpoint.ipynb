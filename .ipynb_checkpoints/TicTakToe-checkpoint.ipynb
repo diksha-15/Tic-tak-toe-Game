{
 "cells": [
  {
   "cell_type": "code",
   "execution_count": 1,
   "metadata": {},
   "outputs": [],
   "source": [
    "from IPython.display import clear_output\n",
    "\n",
    "def display_board(board):\n",
    "    print('  |   |  ')\n",
    "    print( board[7] + ' | ' + board[8] + ' | ' + board[9])\n",
    "    print('  |   |  ')\n",
    "    print('-----------')\n",
    "    print('  |   |  ')\n",
    "    print( board[4] + ' | ' + board[5] + ' | ' + board[6])\n",
    "    print('  |   |  ')\n",
    "    print('-----------')\n",
    "    print('  |   |  ')\n",
    "    print( board[1] + ' | ' + board[2] + ' | ' + board[3])\n",
    "    print('  |   |  ')\n",
    "    "
   ]
  },
  {
   "cell_type": "code",
   "execution_count": 2,
   "metadata": {},
   "outputs": [
    {
     "name": "stdout",
     "output_type": "stream",
     "text": [
      "  |   |  \n",
      "X | O | X\n",
      "  |   |  \n",
      "-----------\n",
      "  |   |  \n",
      "O | X | O\n",
      "  |   |  \n",
      "-----------\n",
      "  |   |  \n",
      "X | O | X\n",
      "  |   |  \n"
     ]
    }
   ],
   "source": [
    "test_board = ['#','X','O','X','O','X','O','X','O','X']\n",
    "display_board(test_board)"
   ]
  },
  {
   "cell_type": "code",
   "execution_count": 3,
   "metadata": {},
   "outputs": [],
   "source": [
    "def player_input():\n",
    "    marker=''\n",
    "    while (not(marker=='X' or marker=='O')):\n",
    "       marker = input(\"Player 1: Do you want to be X or O?\").upper()\n",
    "    if(marker=='X'):\n",
    "       return ('X','O')\n",
    "    else:\n",
    "       return ('O','X')   "
   ]
  },
  {
   "cell_type": "code",
   "execution_count": 4,
   "metadata": {},
   "outputs": [
    {
     "name": "stdout",
     "output_type": "stream",
     "text": [
      "Player 1: Do you want to be X or O?o\n"
     ]
    },
    {
     "data": {
      "text/plain": [
       "('O', 'X')"
      ]
     },
     "execution_count": 4,
     "metadata": {},
     "output_type": "execute_result"
    }
   ],
   "source": [
    "player_input()"
   ]
  },
  {
   "cell_type": "code",
   "execution_count": 5,
   "metadata": {},
   "outputs": [],
   "source": [
    "def place_marker(board, marker, position):\n",
    "    board[position]=marker\n",
    "    "
   ]
  },
  {
   "cell_type": "code",
   "execution_count": 6,
   "metadata": {},
   "outputs": [
    {
     "name": "stdout",
     "output_type": "stream",
     "text": [
      "  |   |  \n",
      "X | $ | X\n",
      "  |   |  \n",
      "-----------\n",
      "  |   |  \n",
      "O | X | O\n",
      "  |   |  \n",
      "-----------\n",
      "  |   |  \n",
      "X | O | X\n",
      "  |   |  \n"
     ]
    }
   ],
   "source": [
    "place_marker(test_board,'$',8)\n",
    "display_board(test_board)"
   ]
  },
  {
   "cell_type": "code",
   "execution_count": 7,
   "metadata": {},
   "outputs": [],
   "source": [
    "def win_check(board, mark):\n",
    "     return ((board[7] == mark and board[8] == mark and board[9] == mark) or # across the top\n",
    "    (board[4] == mark and board[5] == mark and board[6] == mark) or # across the middle\n",
    "    (board[1] == mark and board[2] == mark and board[3] == mark) or # across the bottom\n",
    "    (board[7] == mark and board[4] == mark and board[1] == mark) or # down the middle\n",
    "    (board[8] == mark and board[5] == mark and board[2] == mark) or # down the middle\n",
    "    (board[9] == mark and board[6] == mark and board[3] == mark) or # down the right side\n",
    "    (board[7] == mark and board[5] == mark and board[3] == mark) or # diagonal\n",
    "    (board[9] == mark and board[5] == mark and board[1] == mark)) # diagonal\n",
    "            \n",
    "            "
   ]
  },
  {
   "cell_type": "code",
   "execution_count": 8,
   "metadata": {},
   "outputs": [
    {
     "data": {
      "text/plain": [
       "True"
      ]
     },
     "execution_count": 8,
     "metadata": {},
     "output_type": "execute_result"
    }
   ],
   "source": [
    "win_check(test_board,'X')"
   ]
  },
  {
   "cell_type": "code",
   "execution_count": 9,
   "metadata": {},
   "outputs": [],
   "source": [
    "import random\n",
    "\n",
    "def choose_first():\n",
    "   x=random.randint(1,2)\n",
    "   if(x==1):\n",
    "        return 'player1'\n",
    "   else:\n",
    "        return 'player2'"
   ]
  },
  {
   "cell_type": "code",
   "execution_count": 10,
   "metadata": {},
   "outputs": [],
   "source": [
    "def space_check(board, position):\n",
    "    if(board[position]==' '):\n",
    "        return True\n",
    "    else:\n",
    "        return False\n",
    "    "
   ]
  },
  {
   "cell_type": "code",
   "execution_count": 11,
   "metadata": {},
   "outputs": [],
   "source": [
    "def full_board_check(board):\n",
    "    for i in range(len(board)):\n",
    "     if space_check(board, i):\n",
    "        return False\n",
    "    return True\n",
    "     \n",
    "    "
   ]
  },
  {
   "cell_type": "code",
   "execution_count": 12,
   "metadata": {},
   "outputs": [],
   "source": [
    "#def player_choice(board):\n",
    "#    num=0\n",
    "#    while(num>9 and n<1):\n",
    "#        num = int(input('Choose your next position: (1-9) '))\n",
    "#        if(space_check(board, num)):\n",
    "#            return num\n",
    "def player_choice(board):\n",
    "    position = 0\n",
    "    \n",
    "    while position not in [1,2,3,4,5,6,7,8,9] or not space_check(board, position):\n",
    "        position = int(input('Choose your next position: (1-9) '))\n",
    "        \n",
    "    return position        \n"
   ]
  },
  {
   "cell_type": "code",
   "execution_count": 13,
   "metadata": {},
   "outputs": [],
   "source": [
    "def replay():\n",
    "    \n",
    "    return input('Do you want to play again? Enter Yes or No: ').lower().startswith('y')  "
   ]
  },
  {
   "cell_type": "code",
   "execution_count": 14,
   "metadata": {},
   "outputs": [
    {
     "name": "stdout",
     "output_type": "stream",
     "text": [
      "Welcome to Tic Tac Toe!\n",
      "Player 1: Do you want to be X or O?o\n",
      "player2 will go first.\n",
      "Are you ready to play? Enter Yes or No.yes\n",
      "  |   |  \n",
      "  |   |  \n",
      "  |   |  \n",
      "-----------\n",
      "  |   |  \n",
      "  |   |  \n",
      "  |   |  \n",
      "-----------\n",
      "  |   |  \n",
      "  |   |  \n",
      "  |   |  \n",
      "Choose your next position: (1-9) 5\n",
      "  |   |  \n",
      "  |   |  \n",
      "  |   |  \n",
      "-----------\n",
      "  |   |  \n",
      "  | X |  \n",
      "  |   |  \n",
      "-----------\n",
      "  |   |  \n",
      "  |   |  \n",
      "  |   |  \n",
      "Choose your next position: (1-9) 8\n",
      "  |   |  \n",
      "  | O |  \n",
      "  |   |  \n",
      "-----------\n",
      "  |   |  \n",
      "  | X |  \n",
      "  |   |  \n",
      "-----------\n",
      "  |   |  \n",
      "  |   |  \n",
      "  |   |  \n",
      "Choose your next position: (1-9) 6\n",
      "  |   |  \n",
      "  | O |  \n",
      "  |   |  \n",
      "-----------\n",
      "  |   |  \n",
      "  | X | X\n",
      "  |   |  \n",
      "-----------\n",
      "  |   |  \n",
      "  |   |  \n",
      "  |   |  \n",
      "Choose your next position: (1-9) 7\n",
      "  |   |  \n",
      "O | O |  \n",
      "  |   |  \n",
      "-----------\n",
      "  |   |  \n",
      "  | X | X\n",
      "  |   |  \n",
      "-----------\n",
      "  |   |  \n",
      "  |   |  \n",
      "  |   |  \n",
      "Choose your next position: (1-9) 9\n",
      "  |   |  \n",
      "O | O | X\n",
      "  |   |  \n",
      "-----------\n",
      "  |   |  \n",
      "  | X | X\n",
      "  |   |  \n",
      "-----------\n",
      "  |   |  \n",
      "  |   |  \n",
      "  |   |  \n",
      "Choose your next position: (1-9) 9\n",
      "Choose your next position: (1-9) 9\n",
      "Choose your next position: (1-9) 8\n",
      "Choose your next position: (1-9) 4\n",
      "  |   |  \n",
      "O | O | X\n",
      "  |   |  \n",
      "-----------\n",
      "  |   |  \n",
      "O | X | X\n",
      "  |   |  \n",
      "-----------\n",
      "  |   |  \n",
      "  |   |  \n",
      "  |   |  \n",
      "Choose your next position: (1-9) 3\n",
      "  |   |  \n",
      "O | O | X\n",
      "  |   |  \n",
      "-----------\n",
      "  |   |  \n",
      "O | X | X\n",
      "  |   |  \n",
      "-----------\n",
      "  |   |  \n",
      "  |   | X\n",
      "  |   |  \n",
      "CONGRATULATIONS!!!\n",
      "player2 won the game\n",
      "Do you want to play again? Enter Yes or No: no\n"
     ]
    }
   ],
   "source": [
    "print('Welcome to Tic Tac Toe!')\n",
    "\n",
    "while True:\n",
    "    board = [' '] * 10\n",
    "    player1_marker, player2_marker=player_input()\n",
    "    turn=choose_first()\n",
    "    print(turn + \" will go first.\")\n",
    "    \n",
    "    play_game = input('Are you ready to play? Enter Yes or No.')\n",
    "    if(play_game.lower()[0]=='y'):\n",
    "        game_on=True\n",
    "    else:\n",
    "        game_on=False\n",
    "    \n",
    "    while(game_on):\n",
    "        if(turn=='player1'):\n",
    "            display_board(board)\n",
    "            x=player_choice(board)\n",
    "            place_marker(board, player1_marker, x)\n",
    "            \n",
    "            if(win_check(board, player1_marker)):\n",
    "                display_board(board)\n",
    "                print(\"CONGRATULATIONS!!!\")\n",
    "                print(turn + ' won the game')\n",
    "                game_on=False\n",
    "            if(full_board_check(board)):\n",
    "                display_board(theBoard)\n",
    "                print('The game is a draw!')\n",
    "                break\n",
    "            else:\n",
    "                turn='player2'\n",
    "                    \n",
    "        else:\n",
    "            display_board(board)\n",
    "            x=player_choice(board)\n",
    "            place_marker(board, player2_marker, x)\n",
    "            \n",
    "            if(win_check(board, player2_marker)):\n",
    "                display_board(board)\n",
    "                print(\"CONGRATULATIONS!!!\")\n",
    "                print(turn + ' won the game')\n",
    "                game_on=False\n",
    "            if(full_board_check(board)):\n",
    "                display_board(theBoard)\n",
    "                print('The game is a draw!')\n",
    "                break\n",
    "            else:\n",
    "                turn='player1'\n",
    "              \n",
    "    if(not replay()):\n",
    "        break\n",
    "         \n",
    "\n",
    "\n",
    "\n"
   ]
  },
  {
   "cell_type": "code",
   "execution_count": null,
   "metadata": {},
   "outputs": [],
   "source": []
  }
 ],
 "metadata": {
  "kernelspec": {
   "display_name": "Python 3",
   "language": "python",
   "name": "python3"
  },
  "language_info": {
   "codemirror_mode": {
    "name": "ipython",
    "version": 3
   },
   "file_extension": ".py",
   "mimetype": "text/x-python",
   "name": "python",
   "nbconvert_exporter": "python",
   "pygments_lexer": "ipython3",
   "version": "3.7.3"
  }
 },
 "nbformat": 4,
 "nbformat_minor": 2
}
